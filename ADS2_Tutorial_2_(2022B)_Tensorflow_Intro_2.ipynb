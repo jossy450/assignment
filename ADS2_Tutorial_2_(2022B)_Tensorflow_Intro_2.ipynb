{
  "nbformat": 4,
  "nbformat_minor": 0,
  "metadata": {
    "colab": {
      "provenance": [],
      "include_colab_link": true
    },
    "kernelspec": {
      "name": "python3",
      "display_name": "Python 3"
    },
    "language_info": {
      "name": "python"
    }
  },
  "cells": [
    {
      "cell_type": "markdown",
      "metadata": {
        "id": "view-in-github",
        "colab_type": "text"
      },
      "source": [
        "<a href=\"https://colab.research.google.com/github/jossy450/assignment/blob/main/ADS2_Tutorial_2_(2022B)_Tensorflow_Intro_2.ipynb\" target=\"_parent\"><img src=\"https://colab.research.google.com/assets/colab-badge.svg\" alt=\"Open In Colab\"/></a>"
      ]
    },
    {
      "cell_type": "markdown",
      "metadata": {
        "id": "rCCqKA3BRjdp"
      },
      "source": [
        "# Tutorial 5\n",
        "\n",
        "In this tutorial, you see how to interact with Tensors—indexing, slicing, reshaping them. Then, you will use Variables and GradientTape to create and fit a simple model."
      ]
    },
    {
      "cell_type": "code",
      "source": [
        "import numpy as np\n",
        "import tensorflow as tf\n",
        "import matplotlib.pyplot as plt"
      ],
      "metadata": {
        "id": "5aDbCD92mbiZ"
      },
      "execution_count": 3,
      "outputs": []
    },
    {
      "cell_type": "markdown",
      "source": [
        "# Exercise 1\n",
        "\n",
        "Create tensors with the following values:\n",
        "\n",
        "```\n",
        "5.0\n",
        "[5.0, 6.0, 7.0]\n",
        "[[5.0, 6.0, 7.0], [8.0, 9.0, 10.0]]\n",
        "```\n",
        "\n",
        "Printing the resulting tensors and their shapes, manipulate these tensors in the following ways:\n",
        "* Do some arithmetic\n",
        "* Index and Slice the tensors"
      ],
      "metadata": {
        "id": "fk5loGXgl9MX"
      }
    },
    {
      "cell_type": "code",
      "metadata": {
        "id": "EOqpa_-ztgul",
        "colab": {
          "base_uri": "https://localhost:8080/"
        },
        "outputId": "30aa27d0-c034-47b9-a44e-2963c9cdcaae"
      },
      "source": [
        "### Create tensors with the above values, then do some maths with them\n",
        "### and try slicing and indexing them\n",
        "### tf.constant\n",
        "\n",
        "rank0 = tf.constant(5.0)\n",
        "rank1 = tf.constant([5.0, 6.0, 7.0])\n",
        "rank2 = tf.constant([[5.0, 6.0, 7.0], [8.0, 9.0, 10.0]])\n",
        "\n",
        "print(rank0 * rank1)\n",
        "print(rank1 * rank2)\n",
        "print(rank1[1])\n",
        "print(rank2[:,0])\n"
      ],
      "execution_count": 8,
      "outputs": [
        {
          "output_type": "stream",
          "name": "stdout",
          "text": [
            "tf.Tensor([25. 30. 35.], shape=(3,), dtype=float32)\n",
            "tf.Tensor(\n",
            "[[25. 36. 49.]\n",
            " [40. 54. 70.]], shape=(2, 3), dtype=float32)\n",
            "tf.Tensor(6.0, shape=(), dtype=float32)\n",
            "tf.Tensor([5. 8.], shape=(2,), dtype=float32)\n"
          ]
        }
      ]
    },
    {
      "cell_type": "markdown",
      "metadata": {
        "id": "NvV5idddUJHb"
      },
      "source": [
        "# Exercise 2\n",
        "\n",
        "Reshaping tensors is very useful, and works a lot like reshaping numpy arrays.\n",
        "\n",
        "* Reshape the tensor x into shape `(1,3)`, print the resulting tensor\n",
        "* Print the tensor y and its shape, then flatten the tensor—the flattened order shows how the data is arranged in the memory\n",
        "* It is good practice to only reshape tensors in ways that combine or split adjacent axes. Reshape tensor y into shapes `(3*2, 5)` and `(3, 2*5)`\n",
        "* You can reshape a tensor into any shape with the same number of elements, but you shouldn't reorder the axes in the process. Try reshaping tensor y into the shapes `(2, 3, 5)` and `(5, 6)`, and print the results.\n",
        "* If you want to swap axes, you can use `tf.transpose`. Transpose y with the permutation `[1, 0, 2]` and compare the results with the `(2,3,5)` reshape."
      ]
    },
    {
      "cell_type": "code",
      "metadata": {
        "id": "MrJRk0v4SiWC",
        "colab": {
          "base_uri": "https://localhost:8080/"
        },
        "outputId": "a3964673-26ae-4629-cbb1-7434868db4c5"
      },
      "source": [
        "### Reshape tensor x into shape (1,3), print the results\n",
        "### tf.reshape\n",
        "\n",
        "x = tf.constant([[1], [2], [3]])\n",
        "print(x)\n",
        "\n",
        "print(tf.reshape(x, (1,3)))\n"
      ],
      "execution_count": 19,
      "outputs": [
        {
          "output_type": "stream",
          "name": "stdout",
          "text": [
            "tf.Tensor(\n",
            "[[1]\n",
            " [2]\n",
            " [3]], shape=(3, 1), dtype=int32)\n",
            "tf.Tensor([[1 2 3]], shape=(1, 3), dtype=int32)\n"
          ]
        }
      ]
    },
    {
      "cell_type": "code",
      "source": [
        "### Print the tensor y and its shape. Flatten the tensor and print the results\n",
        "### tf.reshape\n",
        "y = tf.constant([\n",
        "  [[0, 0, 0, 0, 0],\n",
        "   [0, 0, 0, 0, 0]],\n",
        "  [[1, 1, 1, 1, 1],\n",
        "   [1, 1, 1, 1, 1]],\n",
        "  [[2, 2, 2, 2, 2],\n",
        "   [2, 2, 2, 2, 2]],])\n",
        "\n",
        "### Reshape y into shapes (3*2, 5) and (3, 5*2), print the results\n",
        "### tf.reshape\n",
        "print(tf.reshape(y, (3*2, 5)))\n",
        "print(tf.reshape(y, (3, 5*2)))\n",
        "\n",
        "\n",
        "### Reshape y into shapes (2, 3, 5) and (5, 6), print the results\n",
        "### tf.reshape\n",
        "print(tf.reshape(y, (2, 3, 5)))\n",
        "print(tf.reshape(y, (5, 6)))\n",
        "\n",
        "\n",
        "### Transpose y with the permutation [1, 0, 2], compare the result with the\n",
        "### (2, 3, 5) reshape\n",
        "### tf.transpose\n",
        "print(tf.transpose(y, [1, 0, 2]))"
      ],
      "metadata": {
        "id": "aNFzd8jByn_c",
        "colab": {
          "base_uri": "https://localhost:8080/"
        },
        "outputId": "7bfca873-4adb-4cc5-dd43-a2b583cbbf98"
      },
      "execution_count": 31,
      "outputs": [
        {
          "output_type": "stream",
          "name": "stdout",
          "text": [
            "tf.Tensor(\n",
            "[[0 0 0 0 0]\n",
            " [0 0 0 0 0]\n",
            " [1 1 1 1 1]\n",
            " [1 1 1 1 1]\n",
            " [2 2 2 2 2]\n",
            " [2 2 2 2 2]], shape=(6, 5), dtype=int32)\n",
            "tf.Tensor(\n",
            "[[0 0 0 0 0 0 0 0 0 0]\n",
            " [1 1 1 1 1 1 1 1 1 1]\n",
            " [2 2 2 2 2 2 2 2 2 2]], shape=(3, 10), dtype=int32)\n",
            "tf.Tensor(\n",
            "[[[0 0 0 0 0]\n",
            "  [0 0 0 0 0]\n",
            "  [1 1 1 1 1]]\n",
            "\n",
            " [[1 1 1 1 1]\n",
            "  [2 2 2 2 2]\n",
            "  [2 2 2 2 2]]], shape=(2, 3, 5), dtype=int32)\n",
            "tf.Tensor(\n",
            "[[0 0 0 0 0 0]\n",
            " [0 0 0 0 1 1]\n",
            " [1 1 1 1 1 1]\n",
            " [1 1 2 2 2 2]\n",
            " [2 2 2 2 2 2]], shape=(5, 6), dtype=int32)\n",
            "tf.Tensor(\n",
            "[[[0 0 0 0 0]\n",
            "  [1 1 1 1 1]\n",
            "  [2 2 2 2 2]]\n",
            "\n",
            " [[0 0 0 0 0]\n",
            "  [1 1 1 1 1]\n",
            "  [2 2 2 2 2]]], shape=(2, 3, 5), dtype=int32)\n"
          ]
        }
      ]
    },
    {
      "cell_type": "markdown",
      "metadata": {
        "id": "qZHc2IbgNRQY"
      },
      "source": [
        "# Exercise 3\n",
        "\n",
        "In this exercise, you will create a simple model and training loop for finding the gradient and intercept of a line through noisy data. Generate the data in the code below. Plot the data along with the ground truth line."
      ]
    },
    {
      "cell_type": "code",
      "source": [
        "# The actual line\n",
        "TRUE_W = 3.0\n",
        "TRUE_B = 2.0\n",
        "\n",
        "NUM_EXAMPLES = 201\n",
        "\n",
        "# A vector of random x values\n",
        "x = tf.linspace(-2,2, NUM_EXAMPLES)\n",
        "x = tf.cast(x, tf.float32)\n",
        "\n",
        "def f(x):\n",
        "  return x * TRUE_W + TRUE_B\n",
        "\n",
        "# Generate some noise\n",
        "noise = tf.random.normal(shape=[NUM_EXAMPLES])\n",
        "\n",
        "# Calculate y\n",
        "y = f(x) + noise"
      ],
      "metadata": {
        "id": "vd3hdUhC1sA2"
      },
      "execution_count": 53,
      "outputs": []
    },
    {
      "cell_type": "code",
      "source": [
        "### Plot the data points, x and y, along with the ground truth line\n",
        "import matplotlib.pyplot as plt\n",
        "#plt.plot(x * TRUE_W + TRUE_B)\n",
        "\n",
        "title = str.upper('simple model and training loop for finding the gradient and intercept of a line')\n",
        "xlabel = ('Comparism')\n",
        "ylabel = ('some noise')\n",
        "\n",
        "plt.scatter(x, y)\n",
        "plt.xlabel(xlabel)\n",
        "plt.ylabel(ylabel)\n",
        "plt.title(title)\n",
        "plt.show()"
      ],
      "metadata": {
        "id": "zpXgntEh2g7A",
        "colab": {
          "base_uri": "https://localhost:8080/",
          "height": 295
        },
        "outputId": "7c6ca5d0-b807-4c96-93a7-5393b9a266fd"
      },
      "execution_count": 55,
      "outputs": [
        {
          "output_type": "display_data",
          "data": {
            "text/plain": [
              "<Figure size 432x288 with 1 Axes>"
            ],
            "image/png": "[encoded data removed]"
          },
          "metadata": {
            "needs_background": "light"
          }
        }
      ]
    },
    {
      "cell_type": "markdown",
      "source": [
        "Below is a very simple tensorflow model. You need to add in the variables for the weights and bias (the gradient and intercept of the line), then call the model to initialise it. Print the model variables to check them."
      ],
      "metadata": {
        "id": "Z6sSMku74UNX"
      }
    },
    {
      "cell_type": "code",
      "source": [
        "### Complete the model class below. Add in the variables w and b.\n",
        "### Initialise the model by calling the class, then print the variables\n",
        "### tf.Variable, model.variables\n",
        "\n",
        "class MyModel(tf.Module):\n",
        "    def __init__(self, **kwargs):\n",
        "        super().__init__(**kwargs)\n",
        "        # Initialize the weights to `5.0` and the bias to `0.0`\n",
        "        # In practice, these should be randomly initialized\n",
        "        self.w = \"tf.Variable(5.0)\" # A tf.Variable for the gradient\n",
        "        self.b = \"tf.Variable(0.0)\" # A tf.Variable for the intercept\n",
        "\n",
        "    def __call__(self, x):\n",
        "        return self.w * x + self.b\n",
        "\n",
        "        model = MyModel()\n",
        "        model.variables\n",
        "\n",
        "\n"
      ],
      "metadata": {
        "id": "z0ABJC1Q2z62"
      },
      "execution_count": 59,
      "outputs": []
    },
    {
      "cell_type": "markdown",
      "source": [
        "To train the model, we must define a loss function. Create a function that takes in the predicted results, the true results and calculates the mean squared error. Test the function by calling the model with the training data, x, and calculating the loss between the true and predicted values of y."
      ],
      "metadata": {
        "id": "CV9wX4am4l_y"
      }
    },
    {
      "cell_type": "code",
      "source": [
        "### Define the mean squared error loss in the function. Calculate the\n",
        "### initial loss of the model between the predicted and ground truth\n",
        "### values of y\n",
        "### tf.reduce_mean, tf.square\n",
        "\n",
        "def loss(y_true, y_pred):\n",
        "  return tf.reduce_mean(tf.square(y_true - y_pred))\n",
        "\n"
      ],
      "metadata": {
        "id": "JAB4yJp94z6H"
      },
      "execution_count": 64,
      "outputs": []
    },
    {
      "cell_type": "markdown",
      "source": [
        "Next, we define the training function. This function takes a model, training data, and a learning rate. Fill in missing code to calculate the model loss within a GradientTape, then calculate the gradients of of the loss function."
      ],
      "metadata": {
        "id": "TYtu2vH86CNR"
      }
    },
    {
      "cell_type": "code",
      "source": [
        "### Complete the training function. Within the GradientTape context, calculate\n",
        "### the loss of the model predictions. Then, use the GradientTape to find the\n",
        "### gradients the loss function, with respect to W and b\n",
        "### loss, t.gradient\n",
        "\n",
        "def train(model, x, y, learning_rate):\n",
        "\n",
        "    with tf.GradientTape() as tape:\n",
        "        ### Calculate the loss of the model predictions\n",
        "        y_pred = model(x)\n",
        "        mse = loss(y, y_pred)\n",
        "\n",
        "    ### Use tape.gradient to calculate the gradients with respect to W and b\n",
        "    dw, db = tape.gradient(mse, [model.w, model.b])\n",
        "\n",
        "    # Subtract the gradient scaled by the learning rate\n",
        "    model.w.assign_sub(learning_rate * dw)\n",
        "    model.b.assign_sub(learning_rate * db)"
      ],
      "metadata": {
        "id": "XtyGXtlS5VoZ"
      },
      "execution_count": 65,
      "outputs": []
    },
    {
      "cell_type": "markdown",
      "source": [
        "Lastly, we need the training loop. Create a function that takes in the model, x, y, and an integer called epochs.\n",
        "\n",
        "Inside the function, create a for loop over the number of epochs. The loop should call the train function—use a learning rate of 0.1—and print the current loss function of the model"
      ],
      "metadata": {
        "id": "7Eu8ULIm8vPk"
      }
    },
    {
      "cell_type": "code",
      "source": [
        "### Complete the training loop function\n",
        "\n",
        "def training_loop(model, x, y, epochs):\n",
        "\n",
        "    ### Define a loop over the number of epochs that calls the train function\n",
        "    ### Each epoch, print the current epoch number, the current loss value\n",
        "    #### and the values of W and b from the model\n",
        "    \n",
        "    for i in range(epochs):\n",
        "      train(model, )\n",
        "    return ''"
      ],
      "metadata": {
        "id": "fAwGyq1D8u6h"
      },
      "execution_count": 63,
      "outputs": []
    },
    {
      "cell_type": "markdown",
      "source": [
        "Train the model for 10 epochs. create a plot that shows the x and y data points, the ground truth line and the predicted line from the model variables."
      ],
      "metadata": {
        "id": "5JTZJ3oy9USO"
      }
    },
    {
      "cell_type": "code",
      "source": [
        "### Train the model for 10 epochs. Plot the data points and display the ground\n",
        "### truth line and the line predicted by the model\n",
        "plt.plot(x, y, '.')\n",
        "plt.plot(x, f(x), label=f\"TRUTH: y = {TRUTH_W}x + {TRUTH_B}\")\n"
      ],
      "metadata": {
        "id": "PWtH5ovmAiFd"
      },
      "execution_count": null,
      "outputs": []
    }
  ]
}